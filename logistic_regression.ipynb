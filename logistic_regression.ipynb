{
  "nbformat": 4,
  "nbformat_minor": 0,
  "metadata": {
    "colab": {
      "provenance": [],
      "authorship_tag": "ABX9TyOotrwl62IarOfsLL7MVIMA",
      "include_colab_link": true
    },
    "kernelspec": {
      "name": "python3",
      "display_name": "Python 3"
    },
    "language_info": {
      "name": "python"
    }
  },
  "cells": [
    {
      "cell_type": "markdown",
      "metadata": {
        "id": "view-in-github",
        "colab_type": "text"
      },
      "source": [
        "<a href=\"https://colab.research.google.com/github/carlos-alves-one/-ML-Logistic-Regression/blob/main/logistic_regression.ipynb\" target=\"_parent\"><img src=\"https://colab.research.google.com/assets/colab-badge.svg\" alt=\"Open In Colab\"/></a>"
      ]
    },
    {
      "cell_type": "markdown",
      "source": [
        "# Logistic Regression"
      ],
      "metadata": {
        "id": "7TKcevMwt_CI"
      }
    },
    {
      "cell_type": "markdown",
      "source": [
        "## Import the libraries"
      ],
      "metadata": {
        "id": "fQPnddhhusis"
      }
    },
    {
      "cell_type": "code",
      "source": [
        "# Imports the NumPy library, which is a popular numerical computing library in Python\n",
        "import numpy as np\n",
        "\n",
        "# Imports the pyplot module of the matplotlib library in Python used for data visualization\n",
        "import matplotlib.pyplot as plt\n",
        "\n",
        "# Imports the Pandas library in Python using, which provides data structures and functions for data manipulation and analysis\n",
        "import pandas as pd"
      ],
      "metadata": {
        "id": "g4LxVUrVu1p8"
      },
      "execution_count": 23,
      "outputs": []
    },
    {
      "cell_type": "markdown",
      "source": [
        "## Import the dataset"
      ],
      "metadata": {
        "id": "Xq7jvqHpvODc"
      }
    },
    {
      "cell_type": "code",
      "source": [
        "# Use read_csv() method to read the contents of the CSV file and convert it into a DataFrame object\n",
        "dataset = pd.read_csv('data.csv')\n",
        "\n",
        "# Selects all rows and all columns except the last one from the dataset\n",
        "X = dataset.iloc[:, -3:-1].values\n",
        "\n",
        "# Select the last column from the dataset\n",
        "y = dataset.iloc[:, -1].values"
      ],
      "metadata": {
        "id": "uB2_6VWWvRIZ"
      },
      "execution_count": 24,
      "outputs": []
    },
    {
      "cell_type": "code",
      "source": [
        "# Print the first 5 elements of the matrix X\n",
        "print(X[:5, -2:])"
      ],
      "metadata": {
        "colab": {
          "base_uri": "https://localhost:8080/"
        },
        "id": "nKdwNcsMQisD",
        "outputId": "c7b225be-e44a-494c-f001-d7f86f8b6cd2"
      },
      "execution_count": 31,
      "outputs": [
        {
          "output_type": "stream",
          "name": "stdout",
          "text": [
            "[[ 4648  4719]\n",
            " [ 2657 19366]\n",
            " [ 2487 15500]\n",
            " [ 3100 12380]\n",
            " [ 1596  7946]]\n"
          ]
        }
      ]
    },
    {
      "cell_type": "code",
      "source": [
        "# Print the first 5 elements of the matrix Y\n",
        "print(y[:5,])"
      ],
      "metadata": {
        "colab": {
          "base_uri": "https://localhost:8080/"
        },
        "id": "PlL5HEpdRaIg",
        "outputId": "8a6e4c49-d057-4b5b-a977-24697ca3bc6c"
      },
      "execution_count": 35,
      "outputs": [
        {
          "output_type": "stream",
          "name": "stdout",
          "text": [
            "['Rejected' 'Rejected' 'Rejected' 'Rejected' 'Rejected']\n"
          ]
        }
      ]
    },
    {
      "cell_type": "markdown",
      "source": [
        "## Splitting the dataset into the Training set and Test set"
      ],
      "metadata": {
        "id": "r8wl4yxQzPNp"
      }
    },
    {
      "cell_type": "code",
      "source": [
        "# Imports train_test_split function from model_selection module of the scikit-learn library\n",
        "from sklearn.model_selection import train_test_split\n",
        "\n",
        "# Splits the dataset into a training set and a testing set using train_test_split function from scikit-learn\n",
        "# 80% train and 20% test\n",
        "# The 'random_state' parameter is set to 0, which means that the split will be deterministic and the same split \n",
        "# will be obtained every time the code is run. \n",
        "X_train, X_test, y_train, y_test = train_test_split(X, y, test_size = 0.2, random_state = 0)"
      ],
      "metadata": {
        "id": "NTNQBYO8zeit"
      },
      "execution_count": 25,
      "outputs": []
    },
    {
      "cell_type": "markdown",
      "source": [
        "## Feature Scaling"
      ],
      "metadata": {
        "id": "S8KY-owl4b6L"
      }
    },
    {
      "cell_type": "code",
      "source": [
        "# Imports the StandardScaler class from the scikit-learn library in Python, which is used for standardizing \n",
        "# (scaling) the features of a dataset by removing the mean and scaling to unit variance.\n",
        "from sklearn.preprocessing import StandardScaler\n",
        "\n",
        "# Creates an instance of the StandardScaler class from scikit-learn, which can be used to scale the features \n",
        "# of a dataset to have zero mean and unit variance.\n",
        "sc = StandardScaler()\n",
        "\n",
        "# Applies fit_transform method of the StandardScaler to the training set X_train, \n",
        "# which scales the features of the dataset to have zero mean and unit variance based on the training set statistics.\n",
        "X_train = sc.fit_transform(X_train)\n",
        "\n",
        "# Applies fit_transform method of the StandardScaler to the training set X_test\n",
        "X_test = sc.transform(X_test)"
      ],
      "metadata": {
        "id": "17USl_9G4iQf"
      },
      "execution_count": 26,
      "outputs": []
    },
    {
      "cell_type": "code",
      "source": [
        "# Print the first 5 elements of the matrix X_train\n",
        "print(X_train[:5, -2:])"
      ],
      "metadata": {
        "colab": {
          "base_uri": "https://localhost:8080/"
        },
        "id": "uBCKgIlzGBPo",
        "outputId": "572c3ee1-017d-4d4c-d471-d70ae588ac45"
      },
      "execution_count": 27,
      "outputs": [
        {
          "output_type": "stream",
          "name": "stdout",
          "text": [
            "[[-0.72069539 -1.6156983 ]\n",
            " [-1.5513517  -0.46106989]\n",
            " [-1.14720215  0.29874223]\n",
            " [-0.20475979 -1.43747292]\n",
            " [ 1.08765888 -1.18269085]]\n"
          ]
        }
      ]
    },
    {
      "cell_type": "code",
      "source": [
        "# Print the first 5 elements of the matrix X_test\n",
        "print(X_test[:5, -2:])"
      ],
      "metadata": {
        "colab": {
          "base_uri": "https://localhost:8080/"
        },
        "id": "6ntFiWJ5KK9k",
        "outputId": "8ec865e2-f8e7-492e-c98f-11c6b6db3495"
      },
      "execution_count": 28,
      "outputs": [
        {
          "output_type": "stream",
          "name": "stdout",
          "text": [
            "[[ 1.63885007 -1.69696349]\n",
            " [-1.0233776   0.16254455]\n",
            " [ 0.51497037  0.00611778]\n",
            " [-1.13860322  1.37960417]\n",
            " [ 0.55022597 -1.52902705]]\n"
          ]
        }
      ]
    },
    {
      "cell_type": "markdown",
      "source": [
        "## Training the Logistic Regression model on the Training set"
      ],
      "metadata": {
        "id": "if2TyicYNFbs"
      }
    },
    {
      "cell_type": "code",
      "source": [
        "# Imports the LogisticRegression class from the scikit-learn linear_model module, \n",
        "# which allows the user to build a logistic regression model for binary classification.\n",
        "from sklearn.linear_model import LogisticRegression\n",
        "\n",
        "# Creates an instance of the LogisticRegression class with a specified random state\n",
        "classifier = LogisticRegression(random_state = 0)\n",
        "\n",
        "# Fits the logistic regression model represented by the classifier object to the training data, \n",
        "# X_train and y_train, so that the model can learn to make predictions on new data\n",
        "classifier.fit(X_train, y_train)"
      ],
      "metadata": {
        "colab": {
          "base_uri": "https://localhost:8080/",
          "height": 74
        },
        "id": "C5FyHPcHNTfe",
        "outputId": "c5354484-fa1a-43cc-f826-f4feb6860aff"
      },
      "execution_count": 29,
      "outputs": [
        {
          "output_type": "execute_result",
          "data": {
            "text/plain": [
              "LogisticRegression(random_state=0)"
            ],
            "text/html": [
              "<style>#sk-container-id-1 {color: black;background-color: white;}#sk-container-id-1 pre{padding: 0;}#sk-container-id-1 div.sk-toggleable {background-color: white;}#sk-container-id-1 label.sk-toggleable__label {cursor: pointer;display: block;width: 100%;margin-bottom: 0;padding: 0.3em;box-sizing: border-box;text-align: center;}#sk-container-id-1 label.sk-toggleable__label-arrow:before {content: \"▸\";float: left;margin-right: 0.25em;color: #696969;}#sk-container-id-1 label.sk-toggleable__label-arrow:hover:before {color: black;}#sk-container-id-1 div.sk-estimator:hover label.sk-toggleable__label-arrow:before {color: black;}#sk-container-id-1 div.sk-toggleable__content {max-height: 0;max-width: 0;overflow: hidden;text-align: left;background-color: #f0f8ff;}#sk-container-id-1 div.sk-toggleable__content pre {margin: 0.2em;color: black;border-radius: 0.25em;background-color: #f0f8ff;}#sk-container-id-1 input.sk-toggleable__control:checked~div.sk-toggleable__content {max-height: 200px;max-width: 100%;overflow: auto;}#sk-container-id-1 input.sk-toggleable__control:checked~label.sk-toggleable__label-arrow:before {content: \"▾\";}#sk-container-id-1 div.sk-estimator input.sk-toggleable__control:checked~label.sk-toggleable__label {background-color: #d4ebff;}#sk-container-id-1 div.sk-label input.sk-toggleable__control:checked~label.sk-toggleable__label {background-color: #d4ebff;}#sk-container-id-1 input.sk-hidden--visually {border: 0;clip: rect(1px 1px 1px 1px);clip: rect(1px, 1px, 1px, 1px);height: 1px;margin: -1px;overflow: hidden;padding: 0;position: absolute;width: 1px;}#sk-container-id-1 div.sk-estimator {font-family: monospace;background-color: #f0f8ff;border: 1px dotted black;border-radius: 0.25em;box-sizing: border-box;margin-bottom: 0.5em;}#sk-container-id-1 div.sk-estimator:hover {background-color: #d4ebff;}#sk-container-id-1 div.sk-parallel-item::after {content: \"\";width: 100%;border-bottom: 1px solid gray;flex-grow: 1;}#sk-container-id-1 div.sk-label:hover label.sk-toggleable__label {background-color: #d4ebff;}#sk-container-id-1 div.sk-serial::before {content: \"\";position: absolute;border-left: 1px solid gray;box-sizing: border-box;top: 0;bottom: 0;left: 50%;z-index: 0;}#sk-container-id-1 div.sk-serial {display: flex;flex-direction: column;align-items: center;background-color: white;padding-right: 0.2em;padding-left: 0.2em;position: relative;}#sk-container-id-1 div.sk-item {position: relative;z-index: 1;}#sk-container-id-1 div.sk-parallel {display: flex;align-items: stretch;justify-content: center;background-color: white;position: relative;}#sk-container-id-1 div.sk-item::before, #sk-container-id-1 div.sk-parallel-item::before {content: \"\";position: absolute;border-left: 1px solid gray;box-sizing: border-box;top: 0;bottom: 0;left: 50%;z-index: -1;}#sk-container-id-1 div.sk-parallel-item {display: flex;flex-direction: column;z-index: 1;position: relative;background-color: white;}#sk-container-id-1 div.sk-parallel-item:first-child::after {align-self: flex-end;width: 50%;}#sk-container-id-1 div.sk-parallel-item:last-child::after {align-self: flex-start;width: 50%;}#sk-container-id-1 div.sk-parallel-item:only-child::after {width: 0;}#sk-container-id-1 div.sk-dashed-wrapped {border: 1px dashed gray;margin: 0 0.4em 0.5em 0.4em;box-sizing: border-box;padding-bottom: 0.4em;background-color: white;}#sk-container-id-1 div.sk-label label {font-family: monospace;font-weight: bold;display: inline-block;line-height: 1.2em;}#sk-container-id-1 div.sk-label-container {text-align: center;}#sk-container-id-1 div.sk-container {/* jupyter's `normalize.less` sets `[hidden] { display: none; }` but bootstrap.min.css set `[hidden] { display: none !important; }` so we also need the `!important` here to be able to override the default hidden behavior on the sphinx rendered scikit-learn.org. See: https://github.com/scikit-learn/scikit-learn/issues/21755 */display: inline-block !important;position: relative;}#sk-container-id-1 div.sk-text-repr-fallback {display: none;}</style><div id=\"sk-container-id-1\" class=\"sk-top-container\"><div class=\"sk-text-repr-fallback\"><pre>LogisticRegression(random_state=0)</pre><b>In a Jupyter environment, please rerun this cell to show the HTML representation or trust the notebook. <br />On GitHub, the HTML representation is unable to render, please try loading this page with nbviewer.org.</b></div><div class=\"sk-container\" hidden><div class=\"sk-item\"><div class=\"sk-estimator sk-toggleable\"><input class=\"sk-toggleable__control sk-hidden--visually\" id=\"sk-estimator-id-1\" type=\"checkbox\" checked><label for=\"sk-estimator-id-1\" class=\"sk-toggleable__label sk-toggleable__label-arrow\">LogisticRegression</label><div class=\"sk-toggleable__content\"><pre>LogisticRegression(random_state=0)</pre></div></div></div></div></div>"
            ]
          },
          "metadata": {},
          "execution_count": 29
        }
      ]
    },
    {
      "cell_type": "markdown",
      "source": [
        "## Predicting a new result"
      ],
      "metadata": {
        "id": "5Zm-eo5DQNLs"
      }
    },
    {
      "cell_type": "code",
      "source": [
        "# Applies the trained logistic regression classifier to predict the binary class label of a new sample \n",
        "# represented by the input features [4648, 4719] that has been standardized using the same scaling applied to the training data\n",
        "print(classifier.predict(sc.transform([[ 4648,4719]])))"
      ],
      "metadata": {
        "colab": {
          "base_uri": "https://localhost:8080/"
        },
        "id": "1qNFX3bHQZEQ",
        "outputId": "27edd6ba-b123-46ef-ab7c-7ff013991442"
      },
      "execution_count": 37,
      "outputs": [
        {
          "output_type": "stream",
          "name": "stdout",
          "text": [
            "['Rejected']\n"
          ]
        }
      ]
    },
    {
      "cell_type": "code",
      "source": [
        "# Applies the trained logistic regression classifier to predict the binary class labels of the test set X_test, \n",
        "# and stores the predicted labels in the y_pred variable.\n",
        "y_pred = classifier.predict(X_test)\n",
        "\n",
        "# Concatenates the predicted and actual binary class labels for the test set into a single two-dimensional NumPy array, \n",
        "# and then prints the resulting array to the console.\n",
        "print(np.concatenate((y_pred.reshape(len(y_pred),1), y_test.reshape(len(y_test),1)),1))"
      ],
      "metadata": {
        "colab": {
          "base_uri": "https://localhost:8080/"
        },
        "id": "BD7P3u9nVE9h",
        "outputId": "65750ab6-57c5-4cf2-cb8b-a8576aa2dd94"
      },
      "execution_count": 39,
      "outputs": [
        {
          "output_type": "stream",
          "name": "stdout",
          "text": [
            "[['Rejected' 'Rejected']\n",
            " ['Rejected' 'Rejected']\n",
            " ['Rejected' 'Rejected']\n",
            " ['Rejected' 'Rejected']\n",
            " ['Rejected' 'Rejected']\n",
            " ['Rejected' 'Rejected']\n",
            " ['Rejected' 'Rejected']\n",
            " ['Rejected' 'Rejected']\n",
            " ['Rejected' 'Rejected']\n",
            " ['Rejected' 'Rejected']\n",
            " ['Rejected' 'Rejected']\n",
            " ['Rejected' 'Rejected']\n",
            " ['Rejected' 'Rejected']\n",
            " ['Rejected' 'Rejected']\n",
            " ['Rejected' 'Rejected']\n",
            " ['Rejected' 'Rejected']\n",
            " ['Rejected' 'Rejected']\n",
            " ['Rejected' 'Approved']\n",
            " ['Rejected' 'Approved']\n",
            " ['Rejected' 'Rejected']\n",
            " ['Rejected' 'Rejected']\n",
            " ['Rejected' 'Rejected']\n",
            " ['Rejected' 'Rejected']\n",
            " ['Rejected' 'Rejected']\n",
            " ['Rejected' 'Rejected']\n",
            " ['Rejected' 'Rejected']\n",
            " ['Rejected' 'Rejected']\n",
            " ['Rejected' 'Approved']\n",
            " ['Rejected' 'Rejected']\n",
            " ['Rejected' 'Rejected']\n",
            " ['Rejected' 'Approved']\n",
            " ['Rejected' 'Rejected']\n",
            " ['Rejected' 'Rejected']\n",
            " ['Rejected' 'Approved']\n",
            " ['Rejected' 'Rejected']\n",
            " ['Rejected' 'Rejected']\n",
            " ['Rejected' 'Rejected']\n",
            " ['Rejected' 'Rejected']\n",
            " ['Rejected' 'Rejected']\n",
            " ['Rejected' 'Rejected']\n",
            " ['Rejected' 'Rejected']\n",
            " ['Rejected' 'Rejected']\n",
            " ['Rejected' 'Approved']\n",
            " ['Rejected' 'Rejected']\n",
            " ['Rejected' 'Rejected']\n",
            " ['Rejected' 'Rejected']\n",
            " ['Rejected' 'Rejected']\n",
            " ['Rejected' 'Rejected']\n",
            " ['Rejected' 'Rejected']\n",
            " ['Rejected' 'Rejected']\n",
            " ['Rejected' 'Rejected']\n",
            " ['Rejected' 'Rejected']\n",
            " ['Rejected' 'Rejected']\n",
            " ['Rejected' 'Rejected']\n",
            " ['Rejected' 'Rejected']\n",
            " ['Rejected' 'Rejected']\n",
            " ['Rejected' 'Rejected']\n",
            " ['Rejected' 'Rejected']\n",
            " ['Rejected' 'Rejected']\n",
            " ['Rejected' 'Rejected']\n",
            " ['Rejected' 'Rejected']\n",
            " ['Rejected' 'Approved']\n",
            " ['Rejected' 'Rejected']\n",
            " ['Rejected' 'Rejected']\n",
            " ['Rejected' 'Rejected']\n",
            " ['Rejected' 'Rejected']\n",
            " ['Rejected' 'Rejected']\n",
            " ['Rejected' 'Rejected']\n",
            " ['Rejected' 'Rejected']\n",
            " ['Rejected' 'Rejected']\n",
            " ['Rejected' 'Approved']\n",
            " ['Rejected' 'Approved']\n",
            " ['Rejected' 'Rejected']\n",
            " ['Rejected' 'Approved']\n",
            " ['Rejected' 'Approved']\n",
            " ['Rejected' 'Rejected']\n",
            " ['Rejected' 'Rejected']\n",
            " ['Rejected' 'Approved']\n",
            " ['Rejected' 'Rejected']\n",
            " ['Rejected' 'Approved']\n",
            " ['Rejected' 'Rejected']\n",
            " ['Rejected' 'Rejected']\n",
            " ['Rejected' 'Rejected']\n",
            " ['Rejected' 'Approved']\n",
            " ['Rejected' 'Rejected']\n",
            " ['Rejected' 'Rejected']\n",
            " ['Rejected' 'Approved']\n",
            " ['Rejected' 'Rejected']\n",
            " ['Rejected' 'Rejected']\n",
            " ['Rejected' 'Approved']\n",
            " ['Rejected' 'Rejected']\n",
            " ['Rejected' 'Rejected']\n",
            " ['Rejected' 'Approved']\n",
            " ['Rejected' 'Rejected']\n",
            " ['Rejected' 'Rejected']\n",
            " ['Rejected' 'Rejected']\n",
            " ['Rejected' 'Rejected']\n",
            " ['Rejected' 'Rejected']\n",
            " ['Rejected' 'Rejected']\n",
            " ['Rejected' 'Approved']\n",
            " ['Rejected' 'Rejected']\n",
            " ['Rejected' 'Rejected']\n",
            " ['Rejected' 'Rejected']\n",
            " ['Rejected' 'Rejected']\n",
            " ['Rejected' 'Approved']\n",
            " ['Rejected' 'Rejected']\n",
            " ['Rejected' 'Rejected']\n",
            " ['Rejected' 'Rejected']\n",
            " ['Rejected' 'Rejected']\n",
            " ['Rejected' 'Rejected']\n",
            " ['Rejected' 'Approved']\n",
            " ['Rejected' 'Rejected']\n",
            " ['Rejected' 'Rejected']\n",
            " ['Rejected' 'Rejected']\n",
            " ['Rejected' 'Rejected']\n",
            " ['Rejected' 'Rejected']\n",
            " ['Rejected' 'Rejected']\n",
            " ['Rejected' 'Rejected']\n",
            " ['Rejected' 'Rejected']\n",
            " ['Rejected' 'Rejected']\n",
            " ['Rejected' 'Rejected']\n",
            " ['Rejected' 'Rejected']\n",
            " ['Rejected' 'Rejected']\n",
            " ['Rejected' 'Rejected']\n",
            " ['Rejected' 'Rejected']\n",
            " ['Rejected' 'Rejected']\n",
            " ['Rejected' 'Rejected']\n",
            " ['Rejected' 'Rejected']\n",
            " ['Rejected' 'Rejected']\n",
            " ['Rejected' 'Rejected']\n",
            " ['Rejected' 'Rejected']\n",
            " ['Rejected' 'Rejected']\n",
            " ['Rejected' 'Rejected']\n",
            " ['Rejected' 'Rejected']\n",
            " ['Rejected' 'Rejected']\n",
            " ['Rejected' 'Rejected']\n",
            " ['Rejected' 'Rejected']\n",
            " ['Rejected' 'Rejected']\n",
            " ['Rejected' 'Rejected']\n",
            " ['Rejected' 'Rejected']\n",
            " ['Rejected' 'Rejected']\n",
            " ['Rejected' 'Rejected']\n",
            " ['Rejected' 'Approved']\n",
            " ['Rejected' 'Approved']\n",
            " ['Rejected' 'Rejected']\n",
            " ['Rejected' 'Rejected']\n",
            " ['Rejected' 'Rejected']\n",
            " ['Rejected' 'Rejected']\n",
            " ['Rejected' 'Rejected']\n",
            " ['Rejected' 'Rejected']\n",
            " ['Rejected' 'Rejected']\n",
            " ['Rejected' 'Approved']\n",
            " ['Rejected' 'Rejected']\n",
            " ['Rejected' 'Rejected']\n",
            " ['Rejected' 'Rejected']\n",
            " ['Rejected' 'Rejected']\n",
            " ['Rejected' 'Rejected']\n",
            " ['Rejected' 'Rejected']\n",
            " ['Rejected' 'Rejected']\n",
            " ['Rejected' 'Rejected']\n",
            " ['Rejected' 'Rejected']\n",
            " ['Rejected' 'Rejected']\n",
            " ['Rejected' 'Rejected']\n",
            " ['Rejected' 'Rejected']\n",
            " ['Rejected' 'Rejected']\n",
            " ['Rejected' 'Approved']\n",
            " ['Rejected' 'Rejected']\n",
            " ['Rejected' 'Rejected']\n",
            " ['Rejected' 'Rejected']\n",
            " ['Rejected' 'Rejected']\n",
            " ['Rejected' 'Rejected']\n",
            " ['Rejected' 'Rejected']\n",
            " ['Rejected' 'Rejected']\n",
            " ['Rejected' 'Rejected']\n",
            " ['Rejected' 'Rejected']\n",
            " ['Rejected' 'Approved']\n",
            " ['Rejected' 'Rejected']\n",
            " ['Rejected' 'Rejected']\n",
            " ['Rejected' 'Rejected']\n",
            " ['Rejected' 'Rejected']\n",
            " ['Rejected' 'Rejected']\n",
            " ['Rejected' 'Rejected']\n",
            " ['Rejected' 'Rejected']\n",
            " ['Rejected' 'Rejected']\n",
            " ['Rejected' 'Approved']\n",
            " ['Rejected' 'Rejected']\n",
            " ['Rejected' 'Rejected']\n",
            " ['Rejected' 'Rejected']\n",
            " ['Rejected' 'Rejected']\n",
            " ['Rejected' 'Approved']\n",
            " ['Rejected' 'Rejected']\n",
            " ['Rejected' 'Rejected']\n",
            " ['Rejected' 'Rejected']\n",
            " ['Rejected' 'Rejected']\n",
            " ['Rejected' 'Approved']\n",
            " ['Rejected' 'Rejected']\n",
            " ['Rejected' 'Rejected']\n",
            " ['Rejected' 'Rejected']\n",
            " ['Rejected' 'Rejected']\n",
            " ['Rejected' 'Rejected']]\n"
          ]
        }
      ]
    },
    {
      "cell_type": "markdown",
      "source": [
        "## Making the Confusion Matrix"
      ],
      "metadata": {
        "id": "VQioNKMAXceW"
      }
    },
    {
      "cell_type": "code",
      "source": [
        "# Imports the confusion_matrix function from the scikit-learn metrics module, \n",
        "# which can be used to compute the confusion matrix of a classifier's predictions.\n",
        "from sklearn.metrics import confusion_matrix\n",
        "\n",
        "# Applies the confusion_matrix function to compute the confusion matrix of a classifier's predictions \n",
        "# by comparing the predicted binary class labels (y_pred) to the actual binary class labels (y_test) for the test set.\n",
        "cm = confusion_matrix(y_test, y_pred)\n",
        "\n",
        "# Prints the confusion matrix\n",
        "print(cm)"
      ],
      "metadata": {
        "colab": {
          "base_uri": "https://localhost:8080/"
        },
        "id": "8wIziQnFXENY",
        "outputId": "d513d469-46b4-40ef-e993-1670c51b28a3"
      },
      "execution_count": 40,
      "outputs": [
        {
          "output_type": "stream",
          "name": "stdout",
          "text": [
            "[[  0  28]\n",
            " [  0 172]]\n"
          ]
        }
      ]
    },
    {
      "cell_type": "code",
      "source": [
        "# Imports the accuracy_score function from the scikit-learn metrics module, \n",
        "# which can be used to compute the accuracy of a classifier's predictions by comparing \n",
        "# the predicted binary class labels to the actual binary class labels for a set of data.\n",
        "from sklearn.metrics import accuracy_score\n",
        "\n",
        "# Applies the accuracy_score function to compute the accuracy of a classifier's predictions \n",
        "# by comparing the predicted binary class labels (y_pred) to the actual binary class labels (y_test) for the test set.\n",
        "accuracy_score(y_test, y_pred)"
      ],
      "metadata": {
        "colab": {
          "base_uri": "https://localhost:8080/"
        },
        "id": "NELvK4TqZjmJ",
        "outputId": "9bc2f67b-11cc-465a-e702-4649bbaf4a7a"
      },
      "execution_count": 42,
      "outputs": [
        {
          "output_type": "execute_result",
          "data": {
            "text/plain": [
              "0.86"
            ]
          },
          "metadata": {},
          "execution_count": 42
        }
      ]
    }
  ]
}