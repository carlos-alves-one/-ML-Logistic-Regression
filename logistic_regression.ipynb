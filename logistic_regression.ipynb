{
  "nbformat": 4,
  "nbformat_minor": 0,
  "metadata": {
    "colab": {
      "provenance": [],
      "authorship_tag": "ABX9TyOoGG6UGExL8JYgPjuqpyDV",
      "include_colab_link": true
    },
    "kernelspec": {
      "name": "python3",
      "display_name": "Python 3"
    },
    "language_info": {
      "name": "python"
    }
  },
  "cells": [
    {
      "cell_type": "markdown",
      "metadata": {
        "id": "view-in-github",
        "colab_type": "text"
      },
      "source": [
        "<a href=\"https://colab.research.google.com/github/carlos-alves-one/-ML-Logistic-Regression/blob/main/logistic_regression.ipynb\" target=\"_parent\"><img src=\"https://colab.research.google.com/assets/colab-badge.svg\" alt=\"Open In Colab\"/></a>"
      ]
    },
    {
      "cell_type": "markdown",
      "source": [
        "# Logistic Regression"
      ],
      "metadata": {
        "id": "7TKcevMwt_CI"
      }
    },
    {
      "cell_type": "markdown",
      "source": [
        "## Import the libraries"
      ],
      "metadata": {
        "id": "fQPnddhhusis"
      }
    },
    {
      "cell_type": "code",
      "source": [
        "# Imports the NumPy library, which is a popular numerical computing library in Python\n",
        "import numpy as np\n",
        "\n",
        "# Imports the pyplot module of the matplotlib library in Python used for data visualization\n",
        "import matplotlib.pyplot as plt\n",
        "\n",
        "# Imports the Pandas library in Python using, which provides data structures and functions for data manipulation and analysis\n",
        "import pandas as pd"
      ],
      "metadata": {
        "id": "g4LxVUrVu1p8"
      },
      "execution_count": 7,
      "outputs": []
    },
    {
      "cell_type": "markdown",
      "source": [
        "## Import the dataset"
      ],
      "metadata": {
        "id": "Xq7jvqHpvODc"
      }
    },
    {
      "cell_type": "code",
      "source": [
        "# Use read_csv() method to read the contents of the CSV file and convert it into a DataFrame object\n",
        "dataset = pd.read_csv('data.csv')\n",
        "\n",
        "# Selects all rows and all columns except the last one from the dataset\n",
        "X = dataset.iloc[:, :-1].values\n",
        "\n",
        "# Select the last column from the dataset\n",
        "y = dataset.iloc[:, -1].values"
      ],
      "metadata": {
        "id": "uB2_6VWWvRIZ"
      },
      "execution_count": 6,
      "outputs": []
    },
    {
      "cell_type": "markdown",
      "source": [
        "## Splitting the dataset into the Training set and Test set"
      ],
      "metadata": {
        "id": "r8wl4yxQzPNp"
      }
    },
    {
      "cell_type": "code",
      "source": [
        "# Imports train_test_split function from model_selection module of the scikit-learn library\n",
        "from sklearn.model_selection import train_test_split\n",
        "\n",
        "# Splits the dataset into a training set and a testing set using train_test_split function from scikit-learn\n",
        "# 20% test and 80% train\n",
        "# The 'random_state' parameter is set to 0, which means that the split will be deterministic and the same split \n",
        "# will be obtained every time the code is run. \n",
        "X_train, X_test, y_train, y_test = train_test_split(X, y, test_size = 0.2, random_state = 0)"
      ],
      "metadata": {
        "id": "NTNQBYO8zeit"
      },
      "execution_count": 5,
      "outputs": []
    },
    {
      "cell_type": "markdown",
      "source": [
        "## Feature Scaling"
      ],
      "metadata": {
        "id": "S8KY-owl4b6L"
      }
    },
    {
      "cell_type": "code",
      "source": [
        "# Imports the StandardScaler class from the scikit-learn library in Python, which is used for standardizing \n",
        "# (scaling) the features of a dataset by removing the mean and scaling to unit variance.\n",
        "from sklearn.preprocessing import StandardScaler\n",
        "\n",
        "# Creates an instance of the StandardScaler class from scikit-learn, which can be used to scale the features \n",
        "# of a dataset to have zero mean and unit variance.\n",
        "sc = StandardScaler()\n",
        "\n",
        "# Applies fit_transform method of the StandardScaler to the training set X_train, \n",
        "# which scales the features of the dataset to have zero mean and unit variance based on the training set statistics.\n",
        "X_train = sc.fit_transform(X_train)\n",
        "\n",
        "# Applies fit_transform method of the StandardScaler to the training set X_test\n",
        "X_test = sc.transform(X_test)"
      ],
      "metadata": {
        "id": "17USl_9G4iQf"
      },
      "execution_count": null,
      "outputs": []
    },
    {
      "cell_type": "code",
      "source": [
        "# Print the first 5 elements of the matrix X_train\n",
        "print(X_train[:5, :])"
      ],
      "metadata": {
        "colab": {
          "base_uri": "https://localhost:8080/"
        },
        "id": "uBCKgIlzGBPo",
        "outputId": "80c214ee-4e2a-48c9-cce1-8c9a2176d6c2"
      },
      "execution_count": 12,
      "outputs": [
        {
          "output_type": "stream",
          "name": "stdout",
          "text": [
            "[['Poor' 'Unemployed' 'Land' 'Excellent' 'Auto' 'Bankruptcy'\n",
            "  'Debt Consolidation' 12087 21700 62 61 5 5 0 978 14109 65 2115 947]\n",
            " ['Excellent' 'Self-Employed' 'Investment' 'Good' 'Student' 'Tax Lien'\n",
            "  'Debt Consolidation' 41808 16035 33 17 1 1 2 8977 8909 12 1149 7568]\n",
            " ['Poor' 'Self-Employed' 'House' 'Poor' 'Auto' 'None' 'Other' 24452 17052\n",
            "  11 83 1 4 2 2719 3115 53 1619 11925]\n",
            " ['Excellent' 'Employed' 'Land' 'Poor' 'Auto' 'Judgement'\n",
            "  'Home Improvement' 14656 47058 40 99 5 4 0 976 10449 18 2715 1969]\n",
            " ['Excellent' 'Employed' 'Other' 'Good' 'Other' 'Collection'\n",
            "  'Home Improvement' 17524 41647 54 67 2 0 4 11143 4343 47 4218 3430]]\n"
          ]
        }
      ]
    }
  ]
}