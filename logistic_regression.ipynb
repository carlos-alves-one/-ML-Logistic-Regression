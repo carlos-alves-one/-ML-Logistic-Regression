{
  "nbformat": 4,
  "nbformat_minor": 0,
  "metadata": {
    "colab": {
      "provenance": [],
      "authorship_tag": "ABX9TyP98XpSo0hGrg1BSlrdaLfY",
      "include_colab_link": true
    },
    "kernelspec": {
      "name": "python3",
      "display_name": "Python 3"
    },
    "language_info": {
      "name": "python"
    }
  },
  "cells": [
    {
      "cell_type": "markdown",
      "metadata": {
        "id": "view-in-github",
        "colab_type": "text"
      },
      "source": [
        "<a href=\"https://colab.research.google.com/github/carlos-alves-one/-ML-Logistic-Regression/blob/main/logistic_regression.ipynb\" target=\"_parent\"><img src=\"https://colab.research.google.com/assets/colab-badge.svg\" alt=\"Open In Colab\"/></a>"
      ]
    },
    {
      "cell_type": "markdown",
      "source": [
        "# Logistic Regression"
      ],
      "metadata": {
        "id": "7TKcevMwt_CI"
      }
    },
    {
      "cell_type": "markdown",
      "source": [
        "## Import the libraries"
      ],
      "metadata": {
        "id": "fQPnddhhusis"
      }
    },
    {
      "cell_type": "code",
      "source": [
        "# Imports the NumPy library, which is a popular numerical computing library in Python\n",
        "import numpy as np\n",
        "\n",
        "# Imports the pyplot module of the matplotlib library in Python used for data visualization\n",
        "import matplotlib.pyplot as plt\n",
        "\n",
        "# Imports the Pandas library in Python using, which provides data structures and functions for data manipulation and analysis\n",
        "import pandas as pd"
      ],
      "metadata": {
        "id": "g4LxVUrVu1p8"
      },
      "execution_count": 7,
      "outputs": []
    },
    {
      "cell_type": "markdown",
      "source": [
        "## Import the dataset"
      ],
      "metadata": {
        "id": "Xq7jvqHpvODc"
      }
    },
    {
      "cell_type": "code",
      "source": [
        "# Use read_csv() method to read the contents of the CSV file and convert it into a DataFrame object\n",
        "dataset = pd.read_csv('data.csv')\n",
        "\n",
        "# Selects all rows and all columns except the last one from the dataset\n",
        "X = dataset.iloc[:, -3:-1].values\n",
        "\n",
        "# Select the last column from the dataset\n",
        "y = dataset.iloc[:, -1].values"
      ],
      "metadata": {
        "id": "uB2_6VWWvRIZ"
      },
      "execution_count": 17,
      "outputs": []
    },
    {
      "cell_type": "markdown",
      "source": [
        "## Splitting the dataset into the Training set and Test set"
      ],
      "metadata": {
        "id": "r8wl4yxQzPNp"
      }
    },
    {
      "cell_type": "code",
      "source": [
        "# Imports train_test_split function from model_selection module of the scikit-learn library\n",
        "from sklearn.model_selection import train_test_split\n",
        "\n",
        "# Splits the dataset into a training set and a testing set using train_test_split function from scikit-learn\n",
        "# 80% train and 20% test\n",
        "# The 'random_state' parameter is set to 0, which means that the split will be deterministic and the same split \n",
        "# will be obtained every time the code is run. \n",
        "X_train, X_test, y_train, y_test = train_test_split(X, y, test_size = 0.2, random_state = 0)"
      ],
      "metadata": {
        "id": "NTNQBYO8zeit"
      },
      "execution_count": 18,
      "outputs": []
    },
    {
      "cell_type": "markdown",
      "source": [
        "## Feature Scaling"
      ],
      "metadata": {
        "id": "S8KY-owl4b6L"
      }
    },
    {
      "cell_type": "code",
      "source": [
        "# Imports the StandardScaler class from the scikit-learn library in Python, which is used for standardizing \n",
        "# (scaling) the features of a dataset by removing the mean and scaling to unit variance.\n",
        "from sklearn.preprocessing import StandardScaler\n",
        "\n",
        "# Creates an instance of the StandardScaler class from scikit-learn, which can be used to scale the features \n",
        "# of a dataset to have zero mean and unit variance.\n",
        "sc = StandardScaler()\n",
        "\n",
        "# Applies fit_transform method of the StandardScaler to the training set X_train, \n",
        "# which scales the features of the dataset to have zero mean and unit variance based on the training set statistics.\n",
        "X_train = sc.fit_transform(X_train)\n",
        "\n",
        "# Applies fit_transform method of the StandardScaler to the training set X_test\n",
        "X_test = sc.transform(X_test)"
      ],
      "metadata": {
        "id": "17USl_9G4iQf"
      },
      "execution_count": 19,
      "outputs": []
    },
    {
      "cell_type": "code",
      "source": [
        "# Print the first 5 elements of the matrix X_train\n",
        "print(X_train[:5, -2:])"
      ],
      "metadata": {
        "colab": {
          "base_uri": "https://localhost:8080/"
        },
        "id": "uBCKgIlzGBPo",
        "outputId": "54a2fc63-399b-41be-d018-7aa00f3b535c"
      },
      "execution_count": 21,
      "outputs": [
        {
          "output_type": "stream",
          "name": "stdout",
          "text": [
            "[[-0.72069539 -1.6156983 ]\n",
            " [-1.5513517  -0.46106989]\n",
            " [-1.14720215  0.29874223]\n",
            " [-0.20475979 -1.43747292]\n",
            " [ 1.08765888 -1.18269085]]\n"
          ]
        }
      ]
    },
    {
      "cell_type": "code",
      "source": [
        "# Print the first 5 elements of the matrix X_test\n",
        "print(X_test[:5, -2:])"
      ],
      "metadata": {
        "colab": {
          "base_uri": "https://localhost:8080/"
        },
        "id": "6ntFiWJ5KK9k",
        "outputId": "4f60ba01-4e5f-4b43-d2b8-aef0c12c864c"
      },
      "execution_count": 22,
      "outputs": [
        {
          "output_type": "stream",
          "name": "stdout",
          "text": [
            "[[ 1.63885007 -1.69696349]\n",
            " [-1.0233776   0.16254455]\n",
            " [ 0.51497037  0.00611778]\n",
            " [-1.13860322  1.37960417]\n",
            " [ 0.55022597 -1.52902705]]\n"
          ]
        }
      ]
    },
    {
      "cell_type": "markdown",
      "source": [
        "## Training the Logistic Regression model on the Training set"
      ],
      "metadata": {
        "id": "if2TyicYNFbs"
      }
    }
  ]
}