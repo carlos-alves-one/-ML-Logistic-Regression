{
  "nbformat": 4,
  "nbformat_minor": 0,
  "metadata": {
    "colab": {
      "provenance": [],
      "authorship_tag": "ABX9TyMjtBhOi88paZrsGDnIW4S7",
      "include_colab_link": true
    },
    "kernelspec": {
      "name": "python3",
      "display_name": "Python 3"
    },
    "language_info": {
      "name": "python"
    }
  },
  "cells": [
    {
      "cell_type": "markdown",
      "metadata": {
        "id": "view-in-github",
        "colab_type": "text"
      },
      "source": [
        "<a href=\"https://colab.research.google.com/github/carlos-alves-one/-ML-Logistic-Regression/blob/main/logistic_regression.ipynb\" target=\"_parent\"><img src=\"https://colab.research.google.com/assets/colab-badge.svg\" alt=\"Open In Colab\"/></a>"
      ]
    },
    {
      "cell_type": "markdown",
      "source": [
        "# Logistic Regression"
      ],
      "metadata": {
        "id": "7TKcevMwt_CI"
      }
    },
    {
      "cell_type": "markdown",
      "source": [
        "## Import the libraries"
      ],
      "metadata": {
        "id": "fQPnddhhusis"
      }
    },
    {
      "cell_type": "code",
      "source": [
        "import numpy as np\n",
        "import matplotlib.pyplot as plt\n",
        "import pandas as pd"
      ],
      "metadata": {
        "id": "g4LxVUrVu1p8"
      },
      "execution_count": 1,
      "outputs": []
    },
    {
      "cell_type": "markdown",
      "source": [
        "## Import the dataset"
      ],
      "metadata": {
        "id": "Xq7jvqHpvODc"
      }
    },
    {
      "cell_type": "code",
      "source": [
        "# Use read_csv() method to read the contents of the CSV file and convert it into a DataFrame object\n",
        "dataset = pd.read_csv('data.csv')\n",
        "\n",
        "# Selects all rows and all columns except the last one from the dataset\n",
        "X = dataset.iloc[:, :-1].values\n",
        "\n",
        "# Select the last column from the dataset\n",
        "y = dataset.iloc[:, -1].values\n"
      ],
      "metadata": {
        "id": "uB2_6VWWvRIZ"
      },
      "execution_count": 3,
      "outputs": []
    }
  ]
}