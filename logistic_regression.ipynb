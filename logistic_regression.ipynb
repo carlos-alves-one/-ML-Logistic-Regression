{
  "nbformat": 4,
  "nbformat_minor": 0,
  "metadata": {
    "colab": {
      "provenance": [],
      "authorship_tag": "ABX9TyMheRrEW4yQ/sSXIHlpbzVh",
      "include_colab_link": true
    },
    "kernelspec": {
      "name": "python3",
      "display_name": "Python 3"
    },
    "language_info": {
      "name": "python"
    }
  },
  "cells": [
    {
      "cell_type": "markdown",
      "metadata": {
        "id": "view-in-github",
        "colab_type": "text"
      },
      "source": [
        "<a href=\"https://colab.research.google.com/github/carlos-alves-one/-ML-Logistic-Regression/blob/main/logistic_regression.ipynb\" target=\"_parent\"><img src=\"https://colab.research.google.com/assets/colab-badge.svg\" alt=\"Open In Colab\"/></a>"
      ]
    },
    {
      "cell_type": "markdown",
      "source": [
        "# Logistic Regression"
      ],
      "metadata": {
        "id": "7TKcevMwt_CI"
      }
    },
    {
      "cell_type": "markdown",
      "source": [
        "## Import the libraries"
      ],
      "metadata": {
        "id": "fQPnddhhusis"
      }
    },
    {
      "cell_type": "code",
      "source": [
        "# Imports the NumPy library, which is a popular numerical computing library in Python\n",
        "import numpy as np\n",
        "\n",
        "# Imports the pyplot module of the matplotlib library in Python used for data visualization\n",
        "import matplotlib.pyplot as plt\n",
        "\n",
        "# Imports the Pandas library in Python using, which provides data structures and functions for data manipulation and analysis\n",
        "import pandas as pd"
      ],
      "metadata": {
        "id": "g4LxVUrVu1p8"
      },
      "execution_count": 1,
      "outputs": []
    },
    {
      "cell_type": "markdown",
      "source": [
        "## Import the dataset"
      ],
      "metadata": {
        "id": "Xq7jvqHpvODc"
      }
    },
    {
      "cell_type": "code",
      "source": [
        "# Use read_csv() method to read the contents of the CSV file and convert it into a DataFrame object\n",
        "dataset = pd.read_csv('data.csv')\n",
        "\n",
        "# Selects all rows and all columns except the last one from the dataset\n",
        "X = dataset.iloc[:, :-1].values\n",
        "\n",
        "# Select the last column from the dataset\n",
        "y = dataset.iloc[:, -1].values"
      ],
      "metadata": {
        "id": "uB2_6VWWvRIZ"
      },
      "execution_count": 4,
      "outputs": []
    },
    {
      "cell_type": "markdown",
      "source": [
        "## Splitting the dataset inti the training set and Test set"
      ],
      "metadata": {
        "id": "r8wl4yxQzPNp"
      }
    },
    {
      "cell_type": "code",
      "source": [
        "# Imports train_test_split function from model_selection module of the scikit-learn library\n",
        "from sklearn.model_selection import train_test_split\n",
        "\n",
        "# Splits the dataset into a training set and a testing set using train_test_split function from scikit-learn\n",
        "# 20% test and 80% train\n",
        "# The 'random_state' parameter is set to 0, which means that the split will be deterministic and the same split \n",
        "# will be obtained every time the code is run. \n",
        "X_train, X_test, y_train, y_test = train_test_split(X, y, test_size = 0.2, random_state = 0)"
      ],
      "metadata": {
        "id": "NTNQBYO8zeit"
      },
      "execution_count": null,
      "outputs": []
    }
  ]
}